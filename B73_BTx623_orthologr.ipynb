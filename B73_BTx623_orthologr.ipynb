{
 "cells": [
  {
   "cell_type": "markdown",
   "metadata": {},
   "source": [
    "# Determining B73 and BTx623 protein conservation\n",
    "Using package, orthologr  \n",
    "\n",
    "Drost et al. 2015. Evidence for Active Maintenance of Phylotranscriptomic Hourglass Patterns in Animal and Plant Embryogenesis. Mol. Biol. Evol. 32 (5): 1221-1231. doi:10.1093/molbev/msv012\n",
    "\n",
    "following: https://hajkd.github.io/orthologr/articles/dNdS_estimation.html  \n",
    "\n"
   ]
  },
  {
   "cell_type": "code",
   "execution_count": 1,
   "metadata": {},
   "outputs": [
    {
     "name": "stderr",
     "output_type": "stream",
     "text": [
      "Bioconductor version 3.6 (BiocInstaller 1.28.0), ?biocLite for help\n",
      "A new version of Bioconductor is available after installing the most recent\n",
      "  version of R; see http://bioconductor.org/install\n",
      "BioC_mirror: https://bioconductor.org\n",
      "Using Bioconductor 3.6 (BiocInstaller 1.28.0), R 3.4.3 (2017-11-30).\n",
      "Installing github package(s) ‘HajkD/orthologr’\n",
      "Downloading GitHub repo HajkD/orthologr@master\n",
      "from URL https://api.github.com/repos/HajkD/orthologr/zipball/master\n",
      "Installing orthologr\n",
      "Installing biomartr\n",
      "Installing data.table\n",
      "'/Library/Frameworks/R.framework/Resources/bin/R' --no-site-file --no-environ  \\\n",
      "  --no-save --no-restore --quiet CMD INSTALL  \\\n",
      "  '/private/var/folders/5g/8m48_y6j031cwg17tfnqtc1c0000gn/T/RtmpQekO3n/devtools6f9424f1a8e3/data.table'  \\\n",
      "  --library='/Library/Frameworks/R.framework/Versions/3.4/Resources/library'  \\\n",
      "  --install-tests \n",
      "\n",
      "Installing downloader\n",
      "'/Library/Frameworks/R.framework/Resources/bin/R' --no-site-file --no-environ  \\\n",
      "  --no-save --no-restore --quiet CMD INSTALL  \\\n",
      "  '/private/var/folders/5g/8m48_y6j031cwg17tfnqtc1c0000gn/T/RtmpQekO3n/devtools6f941bca9951/downloader'  \\\n",
      "  --library='/Library/Frameworks/R.framework/Versions/3.4/Resources/library'  \\\n",
      "  --install-tests \n",
      "\n",
      "Installing RCurl\n",
      "'/Library/Frameworks/R.framework/Resources/bin/R' --no-site-file --no-environ  \\\n",
      "  --no-save --no-restore --quiet CMD INSTALL  \\\n",
      "  '/private/var/folders/5g/8m48_y6j031cwg17tfnqtc1c0000gn/T/RtmpQekO3n/devtools6f9472df0c9d/RCurl'  \\\n",
      "  --library='/Library/Frameworks/R.framework/Versions/3.4/Resources/library'  \\\n",
      "  --install-tests \n",
      "\n",
      "Installing readr\n",
      "Installing clipr\n",
      "'/Library/Frameworks/R.framework/Resources/bin/R' --no-site-file --no-environ  \\\n",
      "  --no-save --no-restore --quiet CMD INSTALL  \\\n",
      "  '/private/var/folders/5g/8m48_y6j031cwg17tfnqtc1c0000gn/T/RtmpQekO3n/devtools6f9468d241a/clipr'  \\\n",
      "  --library='/Library/Frameworks/R.framework/Versions/3.4/Resources/library'  \\\n",
      "  --install-tests \n",
      "\n",
      "'/Library/Frameworks/R.framework/Resources/bin/R' --no-site-file --no-environ  \\\n",
      "  --no-save --no-restore --quiet CMD INSTALL  \\\n",
      "  '/private/var/folders/5g/8m48_y6j031cwg17tfnqtc1c0000gn/T/RtmpQekO3n/devtools6f942282b26e/readr'  \\\n",
      "  --library='/Library/Frameworks/R.framework/Versions/3.4/Resources/library'  \\\n",
      "  --install-tests \n",
      "\n",
      "Installing stringr\n",
      "'/Library/Frameworks/R.framework/Resources/bin/R' --no-site-file --no-environ  \\\n",
      "  --no-save --no-restore --quiet CMD INSTALL  \\\n",
      "  '/private/var/folders/5g/8m48_y6j031cwg17tfnqtc1c0000gn/T/RtmpQekO3n/devtools6f946e2599d2/stringr'  \\\n",
      "  --library='/Library/Frameworks/R.framework/Versions/3.4/Resources/library'  \\\n",
      "  --install-tests \n",
      "\n",
      "Installing XML\n",
      "'/Library/Frameworks/R.framework/Resources/bin/R' --no-site-file --no-environ  \\\n",
      "  --no-save --no-restore --quiet CMD INSTALL  \\\n",
      "  '/private/var/folders/5g/8m48_y6j031cwg17tfnqtc1c0000gn/T/RtmpQekO3n/devtools6f947d9979e/XML'  \\\n",
      "  --library='/Library/Frameworks/R.framework/Versions/3.4/Resources/library'  \\\n",
      "  --install-tests \n",
      "\n",
      "'/Library/Frameworks/R.framework/Resources/bin/R' --no-site-file --no-environ  \\\n",
      "  --no-save --no-restore --quiet CMD INSTALL  \\\n",
      "  '/private/var/folders/5g/8m48_y6j031cwg17tfnqtc1c0000gn/T/RtmpQekO3n/devtools6f947a697988/biomartr'  \\\n",
      "  --library='/Library/Frameworks/R.framework/Versions/3.4/Resources/library'  \\\n",
      "  --install-tests \n",
      "\n",
      "Skipping install of 'data.table' from a cran remote, the SHA1 (1.11.8) has not changed since last install.\n",
      "  Use `force = TRUE` to force installation\n",
      "Installing dtplyr\n",
      "'/Library/Frameworks/R.framework/Resources/bin/R' --no-site-file --no-environ  \\\n",
      "  --no-save --no-restore --quiet CMD INSTALL  \\\n",
      "  '/private/var/folders/5g/8m48_y6j031cwg17tfnqtc1c0000gn/T/RtmpQekO3n/devtools6f94ef15f2c/dtplyr'  \\\n",
      "  --library='/Library/Frameworks/R.framework/Versions/3.4/Resources/library'  \\\n",
      "  --install-tests \n",
      "\n",
      "Installing seqinr\n",
      "Installing ade4\n",
      "'/Library/Frameworks/R.framework/Resources/bin/R' --no-site-file --no-environ  \\\n",
      "  --no-save --no-restore --quiet CMD INSTALL  \\\n",
      "  '/private/var/folders/5g/8m48_y6j031cwg17tfnqtc1c0000gn/T/RtmpQekO3n/devtools6f94510e771f/ade4'  \\\n",
      "  --library='/Library/Frameworks/R.framework/Versions/3.4/Resources/library'  \\\n",
      "  --install-tests \n",
      "\n",
      "Installing segmented\n",
      "'/Library/Frameworks/R.framework/Resources/bin/R' --no-site-file --no-environ  \\\n",
      "  --no-save --no-restore --quiet CMD INSTALL  \\\n",
      "  '/private/var/folders/5g/8m48_y6j031cwg17tfnqtc1c0000gn/T/RtmpQekO3n/devtools6f9458612e5c/segmented'  \\\n",
      "  --library='/Library/Frameworks/R.framework/Versions/3.4/Resources/library'  \\\n",
      "  --install-tests \n",
      "\n",
      "'/Library/Frameworks/R.framework/Resources/bin/R' --no-site-file --no-environ  \\\n",
      "  --no-save --no-restore --quiet CMD INSTALL  \\\n",
      "  '/private/var/folders/5g/8m48_y6j031cwg17tfnqtc1c0000gn/T/RtmpQekO3n/devtools6f9449b7632/seqinr'  \\\n",
      "  --library='/Library/Frameworks/R.framework/Versions/3.4/Resources/library'  \\\n",
      "  --install-tests \n",
      "\n",
      "Skipping install of 'stringr' from a cran remote, the SHA1 (1.3.1) has not changed since last install.\n",
      "  Use `force = TRUE` to force installation\n",
      "'/Library/Frameworks/R.framework/Resources/bin/R' --no-site-file --no-environ  \\\n",
      "  --no-save --no-restore --quiet CMD INSTALL  \\\n",
      "  '/private/var/folders/5g/8m48_y6j031cwg17tfnqtc1c0000gn/T/RtmpQekO3n/devtools6f946abc8693/HajkD-orthologr-e1fd8bc'  \\\n",
      "  --library='/Library/Frameworks/R.framework/Versions/3.4/Resources/library'  \\\n",
      "  --install-tests \n",
      "\n",
      "Old packages: 'annotate', 'bit', 'BMA', 'caTools', 'cli', 'cluster', 'coda',\n",
      "  'covr', 'cowplot', 'deldir', 'dendextend', 'devtools', 'dtw', 'e1071',\n",
      "  'edgeR', 'evaluate', 'fastcluster', 'foreign', 'Formula', 'fpc',\n",
      "  'futile.options', 'gdtools', 'GenomicRanges', 'ggpubr', 'git2r', 'gtools',\n",
      "  'haven', 'highr', 'htmlTable', 'htmlwidgets', 'httpuv', 'igraph',\n",
      "  'IRdisplay', 'IRkernel', 'iterators', 'kernlab', 'kohonen', 'labelled',\n",
      "  'lambda.r', 'later', 'lattice', 'magic', 'mapproj', 'maps', 'maptools',\n",
      "  'MASS', 'Matrix', 'matrixStats', 'mclust', 'mgcv', 'mime', 'modeltools',\n",
      "  'mvtnorm', 'ndtv', 'network', 'nlme', 'openssl', 'packrat', 'pbdZMQ',\n",
      "  'pheatmap', 'pillar', 'plotrix', 'polyclip', 'pROC', 'proxy', 'ps',\n",
      "  'quantreg', 'questionr', 'R.matlab', 'R.oo', 'R.utils', 'randomForest',\n",
      "  'RcppArmadillo', 'RcppEigen', 'repr', 'reshape', 'rgeos', 'RJSONIO',\n",
      "  'rmarkdown', 'robustbase', 'rrcov', 'rsconnect', 'rstudioapi', 'rvcheck',\n",
      "  'sandwich', 'shiny', 'snow', 'sourcetools', 'sp', 'spatstat',\n",
      "  'spatstat.data', 'spatstat.utils', 'spdep', 'statnet.common', 'survival',\n",
      "  'testthat', 'TH.data', 'tree', 'trimcluster', 'utf8', 'VennDiagram',\n",
      "  'viridis', 'visNetwork', 'VSURF', 'webshot', 'WGCNA', 'xtable', 'yaml', 'zoo'\n"
     ]
    }
   ],
   "source": [
    "# devtools package \n",
    "library(\"devtools\")\n",
    "# install orthologr on your system\n",
    "source(\"http://bioconductor.org/biocLite.R\")\n",
    "biocLite(\"HajkD/orthologr\")"
   ]
  },
  {
   "cell_type": "code",
   "execution_count": 3,
   "metadata": {},
   "outputs": [
    {
     "name": "stderr",
     "output_type": "stream",
     "text": [
      "Loading required package: data.table\n",
      "Warning message:\n",
      "“package ‘data.table’ was built under R version 3.4.4”"
     ]
    }
   ],
   "source": [
    "#try maize against setaria\n",
    "library(orthologr)"
   ]
  },
  {
   "cell_type": "code",
   "execution_count": 4,
   "metadata": {
    "collapsed": true
   },
   "outputs": [],
   "source": [
    "query <- \"divergence_genomes/Zea_mays.AGPv3.30.cds.all.fa\" #reference\n",
    "subject <- \"divergence_genomes/Sitalica_312_v2.2.cds.fa\""
   ]
  },
  {
   "cell_type": "code",
   "execution_count": 7,
   "metadata": {},
   "outputs": [
    {
     "name": "stderr",
     "output_type": "stream",
     "text": [
      "There seem to be 5 coding sequences in your input dataset which cannot be properly divided in base triplets, because their sequence length cannot be divided by 3.\n",
      "A fasta file storing all corrupted coding sequences for inspection was generated and stored at '/Users/Home/Desktop/BLIND/B73_BTx623_orth/Zea_mays.AGPv3.30.cds.all.fa_corrupted_cds_seqs.fasta'.\n",
      "You chose option 'delete_corrupt_cds = TRUE', thus corrupted coding sequences were removed. If after consulting the file 'Zea_mays.AGPv3.30.cds.all.fa_corrupted_cds_seqs.fasta' you still wish to retain all coding sequences please specify the argument 'delete_corrupt_cds = FALSE'.\n",
      "There seem to be 1 coding sequences in your input dataset which cannot be properly divided in base triplets, because their sequence length cannot be divided by 3.\n",
      "A fasta file storing all corrupted coding sequences for inspection was generated and stored at '/Users/Home/Desktop/BLIND/B73_BTx623_orth/Sitalica_312_v2.2.cds.fa_corrupted_cds_seqs.fasta'.\n",
      "You chose option 'delete_corrupt_cds = TRUE', thus corrupted coding sequences were removed. If after consulting the file 'Sitalica_312_v2.2.cds.fa_corrupted_cds_seqs.fasta' you still wish to retain all coding sequences please specify the argument 'delete_corrupt_cds = FALSE'.\n",
      "There seem to be 1 coding sequences in your input dataset which cannot be properly divided in base triplets, because their sequence length cannot be divided by 3.\n",
      "A fasta file storing all corrupted coding sequences for inspection was generated and stored at '/Users/Home/Desktop/BLIND/B73_BTx623_orth/Sitalica_312_v2.2.cds.fa_corrupted_cds_seqs.fasta'.\n",
      "You chose option 'delete_corrupt_cds = TRUE', thus corrupted coding sequences were removed. If after consulting the file 'Sitalica_312_v2.2.cds.fa_corrupted_cds_seqs.fasta' you still wish to retain all coding sequences please specify the argument 'delete_corrupt_cds = FALSE'.\n",
      "There seem to be 5 coding sequences in your input dataset which cannot be properly divided in base triplets, because their sequence length cannot be divided by 3.\n",
      "A fasta file storing all corrupted coding sequences for inspection was generated and stored at '/Users/Home/Desktop/BLIND/B73_BTx623_orth/Zea_mays.AGPv3.30.cds.all.fa_corrupted_cds_seqs.fasta'.\n",
      "You chose option 'delete_corrupt_cds = TRUE', thus corrupted coding sequences were removed. If after consulting the file 'Zea_mays.AGPv3.30.cds.all.fa_corrupted_cds_seqs.fasta' you still wish to retain all coding sequences please specify the argument 'delete_corrupt_cds = FALSE'.\n",
      "There seem to be 5 coding sequences in your input dataset which cannot be properly divided in base triplets, because their sequence length cannot be divided by 3.\n",
      "A fasta file storing all corrupted coding sequences for inspection was generated and stored at '/Users/Home/Desktop/BLIND/B73_BTx623_orth/Zea_mays.AGPv3.30.cds.all.fa_corrupted_cds_seqs.fasta'.\n",
      "You chose option 'delete_corrupt_cds = TRUE', thus corrupted coding sequences were removed. If after consulting the file 'Zea_mays.AGPv3.30.cds.all.fa_corrupted_cds_seqs.fasta' you still wish to retain all coding sequences please specify the argument 'delete_corrupt_cds = FALSE'.\n",
      "There seem to be 1 coding sequences in your input dataset which cannot be properly divided in base triplets, because their sequence length cannot be divided by 3.\n",
      "A fasta file storing all corrupted coding sequences for inspection was generated and stored at '/Users/Home/Desktop/BLIND/B73_BTx623_orth/Sitalica_312_v2.2.cds.fa_corrupted_cds_seqs.fasta'.\n",
      "You chose option 'delete_corrupt_cds = TRUE', thus corrupted coding sequences were removed. If after consulting the file 'Sitalica_312_v2.2.cds.fa_corrupted_cds_seqs.fasta' you still wish to retain all coding sequences please specify the argument 'delete_corrupt_cds = FALSE'.\n"
     ]
    }
   ],
   "source": [
    "library(orthologr)\n",
    "\n",
    "# compute the divergence map of B73 maize\n",
    "B73_DM <- divergence_stratigraphy(\n",
    "                         query_file      = query,\n",
    "                         subject_file    = subject,\n",
    "                         eval            = \"1E-5\", \n",
    "                         ortho_detection = \"RBH\",\n",
    "                         comp_cores      = 3, \n",
    "                         quiet           = FALSE, \n",
    "                         clean_folders   = TRUE )"
   ]
  },
  {
   "cell_type": "code",
   "execution_count": 9,
   "metadata": {},
   "outputs": [
    {
     "data": {
      "text/html": [
       "<table>\n",
       "<thead><tr><th scope=col>DS</th><th scope=col>query_id</th></tr></thead>\n",
       "<tbody>\n",
       "\t<tr><td> 9               </td><td>AC148152.3_FGT005</td></tr>\n",
       "\t<tr><td> 3               </td><td>AC148152.3_FGT008</td></tr>\n",
       "\t<tr><td>10               </td><td>AC148167.6_FGT001</td></tr>\n",
       "\t<tr><td> 3               </td><td>AC149475.2_FGT002</td></tr>\n",
       "\t<tr><td> 9               </td><td>AC149475.2_FGT005</td></tr>\n",
       "\t<tr><td> 8               </td><td>AC149810.2_FGT004</td></tr>\n",
       "</tbody>\n",
       "</table>\n"
      ],
      "text/latex": [
       "\\begin{tabular}{r|ll}\n",
       " DS & query\\_id\\\\\n",
       "\\hline\n",
       "\t  9                  & AC148152.3\\_FGT005\\\\\n",
       "\t  3                  & AC148152.3\\_FGT008\\\\\n",
       "\t 10                  & AC148167.6\\_FGT001\\\\\n",
       "\t  3                  & AC149475.2\\_FGT002\\\\\n",
       "\t  9                  & AC149475.2\\_FGT005\\\\\n",
       "\t  8                  & AC149810.2\\_FGT004\\\\\n",
       "\\end{tabular}\n"
      ],
      "text/markdown": [
       "\n",
       "DS | query_id | \n",
       "|---|---|---|---|---|---|\n",
       "|  9                | AC148152.3_FGT005 | \n",
       "|  3                | AC148152.3_FGT008 | \n",
       "| 10                | AC148167.6_FGT001 | \n",
       "|  3                | AC149475.2_FGT002 | \n",
       "|  9                | AC149475.2_FGT005 | \n",
       "|  8                | AC149810.2_FGT004 | \n",
       "\n",
       "\n"
      ],
      "text/plain": [
       "  DS query_id         \n",
       "1  9 AC148152.3_FGT005\n",
       "2  3 AC148152.3_FGT008\n",
       "3 10 AC148167.6_FGT001\n",
       "4  3 AC149475.2_FGT002\n",
       "5  9 AC149475.2_FGT005\n",
       "6  8 AC149810.2_FGT004"
      ]
     },
     "metadata": {},
     "output_type": "display_data"
    }
   ],
   "source": [
    "head(B73_DM)"
   ]
  },
  {
   "cell_type": "code",
   "execution_count": 10,
   "metadata": {
    "collapsed": true
   },
   "outputs": [],
   "source": [
    "write.table(B73_DM, \"./B73_DS_SItalica_orthologr.txt\", sep=\"\\t\", quote=F)"
   ]
  },
  {
   "cell_type": "code",
   "execution_count": 11,
   "metadata": {},
   "outputs": [
    {
     "data": {
      "text/plain": [
       "   Min. 1st Qu.  Median    Mean 3rd Qu.    Max. \n",
       "  1.000   3.000   6.000   5.501   8.000  10.000 "
      ]
     },
     "metadata": {},
     "output_type": "display_data"
    }
   ],
   "source": [
    "summary(B73_DM$DS)"
   ]
  },
  {
   "cell_type": "code",
   "execution_count": 12,
   "metadata": {
    "scrolled": true
   },
   "outputs": [
    {
     "data": {
      "text/html": [
       "<dl class=dl-horizontal>\n",
       "\t<dt>1</dt>\n",
       "\t\t<dd>1895</dd>\n",
       "\t<dt>2</dt>\n",
       "\t\t<dd>1890</dd>\n",
       "\t<dt>3</dt>\n",
       "\t\t<dd>1893</dd>\n",
       "\t<dt>4</dt>\n",
       "\t\t<dd>1897</dd>\n",
       "\t<dt>5</dt>\n",
       "\t\t<dd>1894</dd>\n",
       "\t<dt>6</dt>\n",
       "\t\t<dd>1892</dd>\n",
       "\t<dt>7</dt>\n",
       "\t\t<dd>1896</dd>\n",
       "\t<dt>8</dt>\n",
       "\t\t<dd>1894</dd>\n",
       "\t<dt>9</dt>\n",
       "\t\t<dd>1895</dd>\n",
       "\t<dt>10</dt>\n",
       "\t\t<dd>1896</dd>\n",
       "</dl>\n"
      ],
      "text/latex": [
       "\\begin{description*}\n",
       "\\item[1] 1895\n",
       "\\item[2] 1890\n",
       "\\item[3] 1893\n",
       "\\item[4] 1897\n",
       "\\item[5] 1894\n",
       "\\item[6] 1892\n",
       "\\item[7] 1896\n",
       "\\item[8] 1894\n",
       "\\item[9] 1895\n",
       "\\item[10] 1896\n",
       "\\end{description*}\n"
      ],
      "text/markdown": [
       "1\n",
       ":   18952\n",
       ":   18903\n",
       ":   18934\n",
       ":   18975\n",
       ":   18946\n",
       ":   18927\n",
       ":   18968\n",
       ":   18949\n",
       ":   189510\n",
       ":   1896\n",
       "\n"
      ],
      "text/plain": [
       "   1    2    3    4    5    6    7    8    9   10 \n",
       "1895 1890 1893 1897 1894 1892 1896 1894 1895 1896 "
      ]
     },
     "metadata": {},
     "output_type": "display_data"
    }
   ],
   "source": [
    "summary(as.factor(B73_DM$DS))"
   ]
  },
  {
   "cell_type": "code",
   "execution_count": 13,
   "metadata": {
    "collapsed": true
   },
   "outputs": [],
   "source": [
    "query <- \"divergence_genomes/Sbicolor_454_v3.1.1.cds.fa\" #reference\n",
    "subject <- \"divergence_genomes/Sitalica_312_v2.2.cds.fa\""
   ]
  },
  {
   "cell_type": "code",
   "execution_count": 14,
   "metadata": {},
   "outputs": [
    {
     "name": "stderr",
     "output_type": "stream",
     "text": [
      "There seem to be 1 coding sequences in your input dataset which cannot be properly divided in base triplets, because their sequence length cannot be divided by 3.\n",
      "A fasta file storing all corrupted coding sequences for inspection was generated and stored at '/Users/Home/Desktop/BLIND/B73_BTx623_orth/Sitalica_312_v2.2.cds.fa_corrupted_cds_seqs.fasta'.\n",
      "You chose option 'delete_corrupt_cds = TRUE', thus corrupted coding sequences were removed. If after consulting the file 'Sitalica_312_v2.2.cds.fa_corrupted_cds_seqs.fasta' you still wish to retain all coding sequences please specify the argument 'delete_corrupt_cds = FALSE'.\n",
      "There seem to be 1 coding sequences in your input dataset which cannot be properly divided in base triplets, because their sequence length cannot be divided by 3.\n",
      "A fasta file storing all corrupted coding sequences for inspection was generated and stored at '/Users/Home/Desktop/BLIND/B73_BTx623_orth/Sitalica_312_v2.2.cds.fa_corrupted_cds_seqs.fasta'.\n",
      "You chose option 'delete_corrupt_cds = TRUE', thus corrupted coding sequences were removed. If after consulting the file 'Sitalica_312_v2.2.cds.fa_corrupted_cds_seqs.fasta' you still wish to retain all coding sequences please specify the argument 'delete_corrupt_cds = FALSE'.\n",
      "There seem to be 1 coding sequences in your input dataset which cannot be properly divided in base triplets, because their sequence length cannot be divided by 3.\n",
      "A fasta file storing all corrupted coding sequences for inspection was generated and stored at '/Users/Home/Desktop/BLIND/B73_BTx623_orth/Sitalica_312_v2.2.cds.fa_corrupted_cds_seqs.fasta'.\n",
      "You chose option 'delete_corrupt_cds = TRUE', thus corrupted coding sequences were removed. If after consulting the file 'Sitalica_312_v2.2.cds.fa_corrupted_cds_seqs.fasta' you still wish to retain all coding sequences please specify the argument 'delete_corrupt_cds = FALSE'.\n"
     ]
    }
   ],
   "source": [
    "library(orthologr)\n",
    "\n",
    "# compute the divergence map of B73 maize\n",
    "BTx623_DM <- divergence_stratigraphy(\n",
    "                         query_file      = query,\n",
    "                         subject_file    = subject,\n",
    "                         eval            = \"1E-5\", \n",
    "                         ortho_detection = \"RBH\",\n",
    "                         comp_cores      = 3, \n",
    "                         quiet           = FALSE, \n",
    "                         clean_folders   = TRUE )"
   ]
  },
  {
   "cell_type": "code",
   "execution_count": 15,
   "metadata": {},
   "outputs": [
    {
     "data": {
      "text/html": [
       "<table>\n",
       "<thead><tr><th scope=col>DS</th><th scope=col>query_id</th></tr></thead>\n",
       "<tbody>\n",
       "\t<tr><td>7                 </td><td>Sobic.001G000100.1</td></tr>\n",
       "\t<tr><td>5                 </td><td>Sobic.001G000200.1</td></tr>\n",
       "\t<tr><td>2                 </td><td>Sobic.001G000400.1</td></tr>\n",
       "\t<tr><td>6                 </td><td>Sobic.001G000700.3</td></tr>\n",
       "\t<tr><td>9                 </td><td>Sobic.001G000800.1</td></tr>\n",
       "\t<tr><td>9                 </td><td>Sobic.001G000900.1</td></tr>\n",
       "</tbody>\n",
       "</table>\n"
      ],
      "text/latex": [
       "\\begin{tabular}{r|ll}\n",
       " DS & query\\_id\\\\\n",
       "\\hline\n",
       "\t 7                  & Sobic.001G000100.1\\\\\n",
       "\t 5                  & Sobic.001G000200.1\\\\\n",
       "\t 2                  & Sobic.001G000400.1\\\\\n",
       "\t 6                  & Sobic.001G000700.3\\\\\n",
       "\t 9                  & Sobic.001G000800.1\\\\\n",
       "\t 9                  & Sobic.001G000900.1\\\\\n",
       "\\end{tabular}\n"
      ],
      "text/markdown": [
       "\n",
       "DS | query_id | \n",
       "|---|---|---|---|---|---|\n",
       "| 7                  | Sobic.001G000100.1 | \n",
       "| 5                  | Sobic.001G000200.1 | \n",
       "| 2                  | Sobic.001G000400.1 | \n",
       "| 6                  | Sobic.001G000700.3 | \n",
       "| 9                  | Sobic.001G000800.1 | \n",
       "| 9                  | Sobic.001G000900.1 | \n",
       "\n",
       "\n"
      ],
      "text/plain": [
       "  DS query_id          \n",
       "1 7  Sobic.001G000100.1\n",
       "2 5  Sobic.001G000200.1\n",
       "3 2  Sobic.001G000400.1\n",
       "4 6  Sobic.001G000700.3\n",
       "5 9  Sobic.001G000800.1\n",
       "6 9  Sobic.001G000900.1"
      ]
     },
     "metadata": {},
     "output_type": "display_data"
    }
   ],
   "source": [
    "head(BTx623_DM)"
   ]
  },
  {
   "cell_type": "code",
   "execution_count": 16,
   "metadata": {
    "collapsed": true
   },
   "outputs": [],
   "source": [
    "write.table(BTx623_DM, \"./BTx623_DS_SItalica_orthologr.txt\", sep=\"\\t\", quote=F)"
   ]
  },
  {
   "cell_type": "code",
   "execution_count": 17,
   "metadata": {},
   "outputs": [
    {
     "data": {
      "text/plain": [
       "   Min. 1st Qu.  Median    Mean 3rd Qu.    Max. \n",
       "  1.000   3.000   6.000   5.501   8.000  10.000 "
      ]
     },
     "metadata": {},
     "output_type": "display_data"
    }
   ],
   "source": [
    "summary(BTx623_DM$DS)"
   ]
  },
  {
   "cell_type": "code",
   "execution_count": 18,
   "metadata": {
    "scrolled": true
   },
   "outputs": [
    {
     "data": {
      "text/html": [
       "<dl class=dl-horizontal>\n",
       "\t<dt>1</dt>\n",
       "\t\t<dd>2146</dd>\n",
       "\t<dt>2</dt>\n",
       "\t\t<dd>2147</dd>\n",
       "\t<dt>3</dt>\n",
       "\t\t<dd>2147</dd>\n",
       "\t<dt>4</dt>\n",
       "\t\t<dd>2148</dd>\n",
       "\t<dt>5</dt>\n",
       "\t\t<dd>2146</dd>\n",
       "\t<dt>6</dt>\n",
       "\t\t<dd>2146</dd>\n",
       "\t<dt>7</dt>\n",
       "\t\t<dd>2148</dd>\n",
       "\t<dt>8</dt>\n",
       "\t\t<dd>2150</dd>\n",
       "\t<dt>9</dt>\n",
       "\t\t<dd>2147</dd>\n",
       "\t<dt>10</dt>\n",
       "\t\t<dd>2148</dd>\n",
       "</dl>\n"
      ],
      "text/latex": [
       "\\begin{description*}\n",
       "\\item[1] 2146\n",
       "\\item[2] 2147\n",
       "\\item[3] 2147\n",
       "\\item[4] 2148\n",
       "\\item[5] 2146\n",
       "\\item[6] 2146\n",
       "\\item[7] 2148\n",
       "\\item[8] 2150\n",
       "\\item[9] 2147\n",
       "\\item[10] 2148\n",
       "\\end{description*}\n"
      ],
      "text/markdown": [
       "1\n",
       ":   21462\n",
       ":   21473\n",
       ":   21474\n",
       ":   21485\n",
       ":   21466\n",
       ":   21467\n",
       ":   21488\n",
       ":   21509\n",
       ":   214710\n",
       ":   2148\n",
       "\n"
      ],
      "text/plain": [
       "   1    2    3    4    5    6    7    8    9   10 \n",
       "2146 2147 2147 2148 2146 2146 2148 2150 2147 2148 "
      ]
     },
     "metadata": {},
     "output_type": "display_data"
    }
   ],
   "source": [
    "summary(as.factor(BTx623_DM$DS))"
   ]
  },
  {
   "cell_type": "code",
   "execution_count": null,
   "metadata": {
    "collapsed": true
   },
   "outputs": [],
   "source": []
  }
 ],
 "metadata": {
  "kernelspec": {
   "display_name": "R",
   "language": "R",
   "name": "ir"
  },
  "language_info": {
   "codemirror_mode": "r",
   "file_extension": ".r",
   "mimetype": "text/x-r-source",
   "name": "R",
   "pygments_lexer": "r",
   "version": "3.4.3"
  }
 },
 "nbformat": 4,
 "nbformat_minor": 2
}
